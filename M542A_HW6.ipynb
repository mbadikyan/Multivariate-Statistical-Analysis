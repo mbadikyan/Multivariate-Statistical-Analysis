{
 "cells": [
  {
   "cell_type": "markdown",
   "metadata": {},
   "source": [
    "# Math 542A Homework 6"
   ]
  },
  {
   "cell_type": "code",
   "execution_count": 1,
   "metadata": {},
   "outputs": [],
   "source": [
    "import math\n",
    "import numpy as np\n",
    "import pandas as pd\n",
    "import scipy.stats as sp"
   ]
  },
  {
   "cell_type": "markdown",
   "metadata": {},
   "source": [
    "### Problem 2"
   ]
  },
  {
   "cell_type": "code",
   "execution_count": 2,
   "metadata": {},
   "outputs": [],
   "source": [
    "iris = pd.read_excel(\"C:\\\\Users\\\\mbadi\\\\iris_data.xlsx\") #50 observations per class"
   ]
  },
  {
   "cell_type": "code",
   "execution_count": 3,
   "metadata": {},
   "outputs": [
    {
     "data": {
      "text/plain": [
       "{'Iris-setosa', 'Iris-versicolor', 'Iris-virginica'}"
      ]
     },
     "execution_count": 3,
     "metadata": {},
     "output_type": "execute_result"
    }
   ],
   "source": [
    "set(iris[\"class\"])"
   ]
  },
  {
   "cell_type": "code",
   "execution_count": 4,
   "metadata": {},
   "outputs": [
    {
     "data": {
      "text/html": [
       "<div>\n",
       "<style scoped>\n",
       "    .dataframe tbody tr th:only-of-type {\n",
       "        vertical-align: middle;\n",
       "    }\n",
       "\n",
       "    .dataframe tbody tr th {\n",
       "        vertical-align: top;\n",
       "    }\n",
       "\n",
       "    .dataframe thead th {\n",
       "        text-align: right;\n",
       "    }\n",
       "</style>\n",
       "<table border=\"1\" class=\"dataframe\">\n",
       "  <thead>\n",
       "    <tr style=\"text-align: right;\">\n",
       "      <th></th>\n",
       "      <th>sepal length</th>\n",
       "      <th>sepal width</th>\n",
       "      <th>petal length</th>\n",
       "      <th>petal width</th>\n",
       "      <th>class</th>\n",
       "    </tr>\n",
       "  </thead>\n",
       "  <tbody>\n",
       "    <tr>\n",
       "      <th>0</th>\n",
       "      <td>5.1</td>\n",
       "      <td>3.5</td>\n",
       "      <td>1.4</td>\n",
       "      <td>0.2</td>\n",
       "      <td>Iris-setosa</td>\n",
       "    </tr>\n",
       "    <tr>\n",
       "      <th>1</th>\n",
       "      <td>4.9</td>\n",
       "      <td>3.0</td>\n",
       "      <td>1.4</td>\n",
       "      <td>0.2</td>\n",
       "      <td>Iris-setosa</td>\n",
       "    </tr>\n",
       "    <tr>\n",
       "      <th>2</th>\n",
       "      <td>4.7</td>\n",
       "      <td>3.2</td>\n",
       "      <td>1.3</td>\n",
       "      <td>0.2</td>\n",
       "      <td>Iris-setosa</td>\n",
       "    </tr>\n",
       "    <tr>\n",
       "      <th>3</th>\n",
       "      <td>4.6</td>\n",
       "      <td>3.1</td>\n",
       "      <td>1.5</td>\n",
       "      <td>0.2</td>\n",
       "      <td>Iris-setosa</td>\n",
       "    </tr>\n",
       "    <tr>\n",
       "      <th>4</th>\n",
       "      <td>5.0</td>\n",
       "      <td>3.6</td>\n",
       "      <td>1.4</td>\n",
       "      <td>0.2</td>\n",
       "      <td>Iris-setosa</td>\n",
       "    </tr>\n",
       "  </tbody>\n",
       "</table>\n",
       "</div>"
      ],
      "text/plain": [
       "   sepal length  sepal width  petal length  petal width        class\n",
       "0           5.1          3.5           1.4          0.2  Iris-setosa\n",
       "1           4.9          3.0           1.4          0.2  Iris-setosa\n",
       "2           4.7          3.2           1.3          0.2  Iris-setosa\n",
       "3           4.6          3.1           1.5          0.2  Iris-setosa\n",
       "4           5.0          3.6           1.4          0.2  Iris-setosa"
      ]
     },
     "execution_count": 4,
     "metadata": {},
     "output_type": "execute_result"
    }
   ],
   "source": [
    "iris.head() #Displays first five observation vectors. "
   ]
  },
  {
   "cell_type": "markdown",
   "metadata": {},
   "source": [
    "We'll proceed to hard-code the solutions instead of using functions. "
   ]
  },
  {
   "cell_type": "markdown",
   "metadata": {},
   "source": [
    "#### (a) Test the hypothesis that the mean vector of petal and sepal length is equal for versicolor and virginica."
   ]
  },
  {
   "cell_type": "code",
   "execution_count": 5,
   "metadata": {},
   "outputs": [],
   "source": [
    "versi_lens = iris[iris[\"class\"]==\"Iris-versicolor\"].iloc[:,[0,2]]"
   ]
  },
  {
   "cell_type": "code",
   "execution_count": 6,
   "metadata": {},
   "outputs": [],
   "source": [
    "virgi_lens = iris[iris[\"class\"]==\"Iris-virginica\"].iloc[:,[0,2]]"
   ]
  },
  {
   "cell_type": "code",
   "execution_count": 7,
   "metadata": {},
   "outputs": [],
   "source": [
    "x_bar_versi = np.mean([versi_lens.iloc[:,0],versi_lens.iloc[:,1]],axis=1)\n",
    "x_bar_virgi = np.mean([virgi_lens.iloc[:,0],virgi_lens.iloc[:,1]],axis=1)"
   ]
  },
  {
   "cell_type": "code",
   "execution_count": 8,
   "metadata": {},
   "outputs": [],
   "source": [
    "S_versi = np.cov([versi_lens.iloc[:,0],versi_lens.iloc[:,1]],rowvar=True)\n",
    "S_virgi = np.cov([virgi_lens.iloc[:,0],virgi_lens.iloc[:,1]],rowvar=True)"
   ]
  },
  {
   "cell_type": "code",
   "execution_count": 14,
   "metadata": {},
   "outputs": [],
   "source": [
    "W = np.matrix((49)*S_versi + (49)*S_virgi)"
   ]
  },
  {
   "cell_type": "markdown",
   "metadata": {},
   "source": [
    "We pooled the covariance matrices, since they're compatible. "
   ]
  },
  {
   "cell_type": "code",
   "execution_count": 12,
   "metadata": {},
   "outputs": [],
   "source": [
    "x_bar = 50*(x_bar_versi + x_bar_virgi)/100"
   ]
  },
  {
   "cell_type": "code",
   "execution_count": 13,
   "metadata": {},
   "outputs": [],
   "source": [
    "B = 50*np.matmul(np.transpose(np.matrix(x_bar_versi-x_bar)),np.matrix(x_bar_versi-x_bar)) + 50*np.matmul(np.transpose(np.matrix(x_bar_virgi-x_bar)),np.matrix(x_bar_virgi-x_bar))"
   ]
  },
  {
   "cell_type": "code",
   "execution_count": 15,
   "metadata": {},
   "outputs": [],
   "source": [
    "Wilks_lambda = np.linalg.det(W)/np.linalg.det(B+W)"
   ]
  },
  {
   "cell_type": "code",
   "execution_count": 16,
   "metadata": {},
   "outputs": [],
   "source": [
    "test_statistic = 97*(1-math.sqrt(Wilks_lambda))/math.sqrt(Wilks_lambda)"
   ]
  },
  {
   "cell_type": "code",
   "execution_count": 17,
   "metadata": {},
   "outputs": [],
   "source": [
    "f_value = sp.f.ppf(0.95,2,97) #alpha = 0.05"
   ]
  },
  {
   "cell_type": "code",
   "execution_count": 18,
   "metadata": {},
   "outputs": [
    {
     "data": {
      "text/plain": [
       "(79.30164464023727, 3.090186675154859)"
      ]
     },
     "execution_count": 18,
     "metadata": {},
     "output_type": "execute_result"
    }
   ],
   "source": [
    "(test_statistic,f_value)"
   ]
  },
  {
   "cell_type": "markdown",
   "metadata": {},
   "source": [
    "##### Since the test statistic for the case of two variables and two groups exceeds the respective 95% confidence f-tail, we have sufficient evidence to reject the null hypothesis of equality of means. Hence, the mean of either sepal length or petal length differs significantly between versicolor and virginica. "
   ]
  },
  {
   "cell_type": "markdown",
   "metadata": {},
   "source": [
    "#### b)  Test the hypothesis that the mean vector of petal and sepal length is equal across all species."
   ]
  },
  {
   "cell_type": "code",
   "execution_count": 77,
   "metadata": {},
   "outputs": [],
   "source": [
    "setos_lens = iris[iris[\"class\"]==\"Iris-setosa\"].iloc[:,[0,2]]"
   ]
  },
  {
   "cell_type": "code",
   "execution_count": 78,
   "metadata": {},
   "outputs": [],
   "source": [
    "x_bar_setos = np.mean([setos_lens.iloc[:,0],setos_lens.iloc[:,1]],axis=1)"
   ]
  },
  {
   "cell_type": "code",
   "execution_count": 79,
   "metadata": {},
   "outputs": [],
   "source": [
    "S_setos = np.cov([setos_lens.iloc[:,0],setos_lens.iloc[:,1]],rowvar=True)"
   ]
  },
  {
   "cell_type": "code",
   "execution_count": 84,
   "metadata": {},
   "outputs": [],
   "source": [
    "W_all = np.matrix(49*S_versi + 49*S_virgi + 49*S_setos)"
   ]
  },
  {
   "cell_type": "code",
   "execution_count": 83,
   "metadata": {},
   "outputs": [],
   "source": [
    "x_bar_all = 50*(x_bar_versi + x_bar_virgi + x_bar_setos)/150"
   ]
  },
  {
   "cell_type": "code",
   "execution_count": 85,
   "metadata": {},
   "outputs": [],
   "source": [
    "B_all = 50*np.matmul(np.transpose(np.matrix(x_bar_versi-x_bar_all)),np.matrix(x_bar_versi-x_bar_all)) + 50*np.matmul(np.transpose(np.matrix(x_bar_virgi-x_bar_all)),np.matrix(x_bar_virgi-x_bar_all)) + 50*np.matmul(np.transpose(np.matrix(x_bar_setos-x_bar_all)),np.matrix(x_bar_setos-x_bar_all))"
   ]
  },
  {
   "cell_type": "code",
   "execution_count": 31,
   "metadata": {},
   "outputs": [],
   "source": [
    "W_lambda = np.linalg.det(W)/np.linalg.det(B+W)  #Wilks lambda"
   ]
  },
  {
   "cell_type": "code",
   "execution_count": 89,
   "metadata": {},
   "outputs": [],
   "source": [
    "test_stat = 73*(1-math.sqrt(W_lambda))/math.sqrt(W_lambda)"
   ]
  },
  {
   "cell_type": "code",
   "execution_count": 90,
   "metadata": {},
   "outputs": [],
   "source": [
    "f_val = sp.f.ppf(.95,4,146)"
   ]
  },
  {
   "cell_type": "code",
   "execution_count": 91,
   "metadata": {},
   "outputs": [
    {
     "data": {
      "text/plain": [
       "(59.68061916224042, 2.433633447712136)"
      ]
     },
     "execution_count": 91,
     "metadata": {},
     "output_type": "execute_result"
    }
   ],
   "source": [
    "(test_stat,f_val)"
   ]
  },
  {
   "cell_type": "markdown",
   "metadata": {},
   "source": [
    "##### Same result as in the case with only two groups; we have sufficient evidence to reject the null hypothesis, so that the vector means of sepal and petal length are significantly different between at least two of the three groups. "
   ]
  },
  {
   "cell_type": "markdown",
   "metadata": {},
   "source": [
    "#### c) Build confidence intervals for the mean vector of petal and sepal length for visicolor."
   ]
  },
  {
   "cell_type": "markdown",
   "metadata": {},
   "source": [
    "##### We'll proceed to construct T-squared confidence intervals for the means of petal and sepal length for versicolor. We'll recycle the T-squared function from the previous homework."
   ]
  },
  {
   "cell_type": "code",
   "execution_count": 25,
   "metadata": {},
   "outputs": [],
   "source": [
    "def T_squared_interval(x,alpha): #for x univariate\n",
    "    x = np.array(x)\n",
    "    x_bar = np.mean(x,axis=0)\n",
    "    n = len(x)\n",
    "    s = np.std(x)\n",
    "    \n",
    "    coeff = (2*(n-1))/(n*(n-2))\n",
    "    f_val = sp.f.ppf(1-alpha,2,n-2)\n",
    "    \n",
    "    lower_bound = x_bar - math.sqrt(coeff*f_val)*s/math.sqrt(n)\n",
    "    upper_bound = x_bar + math.sqrt(coeff*f_val)*s/math.sqrt(n)\n",
    "    \n",
    "    return(lower_bound,upper_bound)"
   ]
  },
  {
   "cell_type": "code",
   "execution_count": 26,
   "metadata": {},
   "outputs": [
    {
     "data": {
      "text/plain": [
       "(5.909916010068213, 5.962083989931787)"
      ]
     },
     "execution_count": 26,
     "metadata": {},
     "output_type": "execute_result"
    }
   ],
   "source": [
    "T_squared_interval(versi_lens.iloc[:,0],0.05)   #alpha = 0.05"
   ]
  },
  {
   "cell_type": "markdown",
   "metadata": {},
   "source": [
    "##### ^Confidence interval for versicolor sepal length."
   ]
  },
  {
   "cell_type": "code",
   "execution_count": 27,
   "metadata": {},
   "outputs": [
    {
     "data": {
      "text/plain": [
       "(4.236253703313551, 4.283746296686449)"
      ]
     },
     "execution_count": 27,
     "metadata": {},
     "output_type": "execute_result"
    }
   ],
   "source": [
    "T_squared_interval(versi_lens.iloc[:,1],0.05)"
   ]
  },
  {
   "cell_type": "markdown",
   "metadata": {},
   "source": [
    "##### ^Confidence interval for versicolor petal length."
   ]
  },
  {
   "cell_type": "markdown",
   "metadata": {},
   "source": [
    "#### d) Build confidence intervals for the difference mean vector of petal and sepal length for visicolor and virginica."
   ]
  },
  {
   "cell_type": "code",
   "execution_count": 46,
   "metadata": {},
   "outputs": [],
   "source": [
    "def Mean_difference_confidence_interval(x1,x2,i,alpha):  #i denotes s_ii\n",
    "    x1 = np.array(x1)\n",
    "    x2 = np.array(x2)\n",
    "    \n",
    "    n1 = len(x1)\n",
    "    n2 = len(x2)\n",
    "    \n",
    "    x1_bar = np.mean(x1)\n",
    "    x2_bar = np.mean(x2)\n",
    "    \n",
    "    S_pooled = ((n1-1)/(n1+n2-1))*np.cov(x1,rowvar=False) + ((n2-1)/(n1+n2-1))*np.cov(x2,rowvar=False)\n",
    "    \n",
    "    c_squared = ((n1+n2-2)*2/(n1+n2-3))*sp.f.ppf(1-alpha,2,n1+n2-3)\n",
    "    \n",
    "    upper_bound = (x1_bar-x2_bar) + math.sqrt(c_squared)*math.sqrt(((1/n1)+(1/n2))*S_pooled[i,i])\n",
    "    lower_bound = (x1_bar-x2_bar) - math.sqrt(c_squared)*math.sqrt(((1/n1)+(1/n2))*S_pooled[i,i])\n",
    "    \n",
    "    return(lower_bound,upper_bound)"
   ]
  },
  {
   "cell_type": "code",
   "execution_count": 43,
   "metadata": {},
   "outputs": [],
   "source": [
    "a=np.array([[versi_lens.iloc[i,0],versi_lens.iloc[i,1]] for i in range(len(versi_lens))])"
   ]
  },
  {
   "cell_type": "code",
   "execution_count": 48,
   "metadata": {},
   "outputs": [],
   "source": [
    "b = np.array([[virgi_lens.iloc[i,0],virgi_lens.iloc[i,1]] for i in range(len(versi_lens))])"
   ]
  },
  {
   "cell_type": "code",
   "execution_count": 50,
   "metadata": {},
   "outputs": [
    {
     "data": {
      "text/plain": [
       "(-1.2599609275655346, -0.6840390724344663)"
      ]
     },
     "execution_count": 50,
     "metadata": {},
     "output_type": "execute_result"
    }
   ],
   "source": [
    "Mean_difference_confidence_interval(a,b,0,.05)"
   ]
  },
  {
   "cell_type": "markdown",
   "metadata": {},
   "source": [
    "##### ^Confidence interval for the difference of sepal length means between versicolor and virginica."
   ]
  },
  {
   "cell_type": "code",
   "execution_count": 51,
   "metadata": {},
   "outputs": [
    {
     "data": {
      "text/plain": [
       "(-1.2268541358466598, -0.717145864153341)"
      ]
     },
     "execution_count": 51,
     "metadata": {},
     "output_type": "execute_result"
    }
   ],
   "source": [
    "Mean_difference_confidence_interval(a,b,1,.05)"
   ]
  },
  {
   "cell_type": "markdown",
   "metadata": {},
   "source": [
    "##### ^Confidence interval for the difference of petal length means between versicolor and virginica. "
   ]
  }
 ],
 "metadata": {
  "kernelspec": {
   "display_name": "Python 3",
   "language": "python",
   "name": "python3"
  },
  "language_info": {
   "codemirror_mode": {
    "name": "ipython",
    "version": 3
   },
   "file_extension": ".py",
   "mimetype": "text/x-python",
   "name": "python",
   "nbconvert_exporter": "python",
   "pygments_lexer": "ipython3",
   "version": "3.7.0"
  }
 },
 "nbformat": 4,
 "nbformat_minor": 2
}
