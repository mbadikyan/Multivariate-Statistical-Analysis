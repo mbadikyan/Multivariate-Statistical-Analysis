{
 "cells": [
  {
   "cell_type": "markdown",
   "metadata": {},
   "source": [
    "# Math 542A Homework 10"
   ]
  },
  {
   "cell_type": "code",
   "execution_count": 59,
   "metadata": {},
   "outputs": [],
   "source": [
    "import numpy as np\n",
    "import scipy as sp\n",
    "from scipy.linalg import sqrtm\n",
    "import scipy.stats"
   ]
  },
  {
   "cell_type": "markdown",
   "metadata": {},
   "source": [
    "## Problem 10.9"
   ]
  },
  {
   "cell_type": "markdown",
   "metadata": {},
   "source": [
    "### a)"
   ]
  },
  {
   "cell_type": "markdown",
   "metadata": {},
   "source": [
    "Store the four sub-matrices of matrix R as variables. We then proceed to calculate the eigenvalues/vectors from the product matrix of inverses and inverse roots. "
   ]
  },
  {
   "cell_type": "code",
   "execution_count": 92,
   "metadata": {},
   "outputs": [],
   "source": [
    "R11 = np.matrix([[1,.6328],[.6328,1]])\n",
    "R12 = np.matrix([[.2412,.0586],[-.0553,.0655]])\n",
    "R21 = R12.T\n",
    "R22 = np.matrix([[1,.4248],[.4248,1]])"
   ]
  },
  {
   "cell_type": "code",
   "execution_count": 93,
   "metadata": {},
   "outputs": [],
   "source": [
    "R11_invrt = sp.linalg.sqrtm(np.linalg.inv(R11))\n",
    "R22_inv = np.linalg.inv(R22)\n",
    "R22_invrt = sp.linalg.sqrtm(R22_inv)\n",
    "R11_inv = np.linalg.inv(R11)"
   ]
  },
  {
   "cell_type": "code",
   "execution_count": 98,
   "metadata": {},
   "outputs": [],
   "source": [
    "mat_prod = (((R11_invrt.dot(R12)).dot(R22_inv)).dot(R21)).dot(R11_invrt)\n",
    "mat_prod2 = (((R22_invrt.dot(R21)).dot(R11_inv)).dot(R12)).dot(R22_invrt)"
   ]
  },
  {
   "cell_type": "code",
   "execution_count": 99,
   "metadata": {},
   "outputs": [],
   "source": [
    "e_val, e_vec = np.linalg.eig(mat_prod)\n",
    "e_val2, e_vec2 = np.linalg.eig(mat_prod2)"
   ]
  },
  {
   "cell_type": "markdown",
   "metadata": {},
   "source": [
    "Recall that the canonical correlation values are the square roots of the eiganvalues of the product matrix. "
   ]
  },
  {
   "cell_type": "code",
   "execution_count": 100,
   "metadata": {},
   "outputs": [],
   "source": [
    "canonical_corr = np.sqrt(e_val)"
   ]
  },
  {
   "cell_type": "code",
   "execution_count": 54,
   "metadata": {},
   "outputs": [],
   "source": [
    "a = e_vec.T.dot(R11_invrt)\n",
    "b = e_vec2.T.dot(R22_invrt)"
   ]
  },
  {
   "cell_type": "code",
   "execution_count": 53,
   "metadata": {},
   "outputs": [
    {
     "data": {
      "text/plain": [
       "array([0.39450592, 0.06884787])"
      ]
     },
     "execution_count": 53,
     "metadata": {},
     "output_type": "execute_result"
    }
   ],
   "source": [
    "canonical_corr #respective correlations between U1,V1 and between U2,V2"
   ]
  },
  {
   "cell_type": "code",
   "execution_count": 55,
   "metadata": {},
   "outputs": [
    {
     "data": {
      "text/plain": [
       "matrix([[ 1.25684474, -1.02531668],\n",
       "        [ 0.29701768,  0.78524131]])"
      ]
     },
     "execution_count": 55,
     "metadata": {},
     "output_type": "execute_result"
    }
   ],
   "source": [
    "a  #coefficients of X(1)"
   ]
  },
  {
   "cell_type": "code",
   "execution_count": 56,
   "metadata": {},
   "outputs": [
    {
     "data": {
      "text/plain": [
       "matrix([[ 1.10447218, -0.45272158],\n",
       "        [-0.01818009,  1.00758746]])"
      ]
     },
     "execution_count": 56,
     "metadata": {},
     "output_type": "execute_result"
    }
   ],
   "source": [
    "b  #coefficients of X(2)"
   ]
  },
  {
   "cell_type": "markdown",
   "metadata": {},
   "source": [
    "### b)"
   ]
  },
  {
   "cell_type": "markdown",
   "metadata": {},
   "source": [
    "Calculate and compare the test statistic with the chi-square tail."
   ]
  },
  {
   "cell_type": "code",
   "execution_count": 57,
   "metadata": {},
   "outputs": [],
   "source": [
    "coeff = -(140-1-.5*(5))"
   ]
  },
  {
   "cell_type": "code",
   "execution_count": 64,
   "metadata": {},
   "outputs": [],
   "source": [
    "test_stat = coeff * np.log((1-e_val[0])*(1-e_val[1]))\n",
    "chi = sp.stats.chi2.ppf(.95,4)"
   ]
  },
  {
   "cell_type": "code",
   "execution_count": 66,
   "metadata": {},
   "outputs": [
    {
     "data": {
      "text/plain": [
       "(23.74030112729348, 9.487729036781154)"
      ]
     },
     "execution_count": 66,
     "metadata": {},
     "output_type": "execute_result"
    }
   ],
   "source": [
    "(test_stat, chi)"
   ]
  },
  {
   "cell_type": "markdown",
   "metadata": {},
   "source": [
    "The test statistic exceeds the chi-square tail, so that we have sufficient evidence to reject the null hypothesis. Hence, at least one component of the correlation vector is nonzero; the next test determines which component that is. "
   ]
  },
  {
   "cell_type": "code",
   "execution_count": 70,
   "metadata": {},
   "outputs": [],
   "source": [
    "test_stat2 = coeff*np.log(1-e_val[1])\n",
    "chi2 = sp.stats.chi2.ppf(.95,1)"
   ]
  },
  {
   "cell_type": "code",
   "execution_count": 71,
   "metadata": {},
   "outputs": [
    {
     "data": {
      "text/plain": [
       "(0.6485522224578681, 3.841458820694124)"
      ]
     },
     "execution_count": 71,
     "metadata": {},
     "output_type": "execute_result"
    }
   ],
   "source": [
    "(test_stat2, chi2)"
   ]
  },
  {
   "cell_type": "markdown",
   "metadata": {},
   "source": [
    "We fail to reject the second null hypothesis, so that we may reasonably conclude that the first canonical correlation is nonzero. Contextually, this means that overall reading ability does indeed correlate with overall math ability. "
   ]
  },
  {
   "cell_type": "markdown",
   "metadata": {},
   "source": [
    "### c)"
   ]
  },
  {
   "cell_type": "markdown",
   "metadata": {},
   "source": [
    "Calculate the matrices of errors of approximations."
   ]
  },
  {
   "cell_type": "code",
   "execution_count": 96,
   "metadata": {},
   "outputs": [
    {
     "data": {
      "text/plain": [
       "matrix([[-1.63093301,  1.0646159 ],\n",
       "        [ 1.0646159 ,  0.29517659]])"
      ]
     },
     "execution_count": 96,
     "metadata": {},
     "output_type": "execute_result"
    }
   ],
   "source": [
    "R11-(a[:,0].dot(a[:,0].T) + a[:,1].dot(a[:,1].T))"
   ]
  },
  {
   "cell_type": "code",
   "execution_count": 97,
   "metadata": {},
   "outputs": [
    {
     "data": {
      "text/plain": [
       "matrix([[-0.42481562,  0.90103599],\n",
       "        [ 0.90103599, -0.015563  ]])"
      ]
     },
     "execution_count": 97,
     "metadata": {},
     "output_type": "execute_result"
    }
   ],
   "source": [
    "R22-(b[:,0].dot(b[:,0].T) + b[:,1].dot(b[:,1].T))"
   ]
  },
  {
   "cell_type": "code",
   "execution_count": 101,
   "metadata": {},
   "outputs": [
    {
     "data": {
      "text/plain": [
       "matrix([[-0.33839143,  0.13874076],\n",
       "        [-0.16024167,  0.01315787]])"
      ]
     },
     "execution_count": 101,
     "metadata": {},
     "output_type": "execute_result"
    }
   ],
   "source": [
    "R12-(canonical_corr[0]*a[:,0].dot(b[:,0].T) + canonical_corr[1]*a[:,1].dot(b[:,1].T))"
   ]
  },
  {
   "cell_type": "markdown",
   "metadata": {},
   "source": [
    "## Problem 10.12"
   ]
  },
  {
   "cell_type": "markdown",
   "metadata": {},
   "source": [
    "### a)"
   ]
  },
  {
   "cell_type": "code",
   "execution_count": 79,
   "metadata": {},
   "outputs": [],
   "source": [
    "R11 = np.matrix([[1,.8],[.8,1]])\n",
    "R12 = R21.T\n",
    "R21 = np.matrix([[.26,.33],[.67,.59],[.34,.34]])\n",
    "R22 = np.matrix([[1,.37,.21],[.37,1,.21],[.21,.35,1]])"
   ]
  },
  {
   "cell_type": "code",
   "execution_count": 82,
   "metadata": {},
   "outputs": [],
   "source": [
    "R11_invrt = sp.linalg.sqrtm(np.linalg.inv(R11))\n",
    "R22_inv = np.linalg.inv(R22)\n",
    "R22_invrt = sp.linalg.sqrtm(R22_inv)\n",
    "R11_inv = np.linalg.inv(R11)"
   ]
  },
  {
   "cell_type": "code",
   "execution_count": 83,
   "metadata": {},
   "outputs": [],
   "source": [
    "mat_prod = (((R11_invrt.dot(R12)).dot(R22_inv)).dot(R21)).dot(R11_invrt)\n",
    "mat_prod2 = (((R22_invrt.dot(R21)).dot(R11_inv)).dot(R12)).dot(R22_invrt)"
   ]
  },
  {
   "cell_type": "code",
   "execution_count": 84,
   "metadata": {},
   "outputs": [],
   "source": [
    "e_val, e_vec = np.linalg.eig(mat_prod)\n",
    "e_val2, e_vec2 = np.linalg.eig(mat_prod2)"
   ]
  },
  {
   "cell_type": "code",
   "execution_count": 86,
   "metadata": {},
   "outputs": [],
   "source": [
    "can_corr = np.sqrt(e_val)"
   ]
  },
  {
   "cell_type": "code",
   "execution_count": 87,
   "metadata": {},
   "outputs": [
    {
     "data": {
      "text/plain": [
       "array([0.69570713, 0.18475722])"
      ]
     },
     "execution_count": 87,
     "metadata": {},
     "output_type": "execute_result"
    }
   ],
   "source": [
    "can_corr"
   ]
  },
  {
   "cell_type": "markdown",
   "metadata": {},
   "source": [
    "We now proceed to conduct the hypothesis test that the problem specifies. "
   ]
  },
  {
   "cell_type": "code",
   "execution_count": 88,
   "metadata": {},
   "outputs": [],
   "source": [
    "coeff = -(70-1-.5*(6))\n",
    "test_stat = coeff * np.log((1-e_val[0])*(1-e_val[1]))\n",
    "chi = sp.stats.chi2.ppf(.95,6)"
   ]
  },
  {
   "cell_type": "code",
   "execution_count": 89,
   "metadata": {},
   "outputs": [
    {
     "data": {
      "text/plain": [
       "(45.96215294478425, 12.591587243743977)"
      ]
     },
     "execution_count": 89,
     "metadata": {},
     "output_type": "execute_result"
    }
   ],
   "source": [
    "(test_stat, chi)"
   ]
  },
  {
   "cell_type": "markdown",
   "metadata": {},
   "source": [
    "Hence, the canonical correlation vector is not uniformly zero, so that there exists at least one nonzero canonical correlation. "
   ]
  },
  {
   "cell_type": "code",
   "execution_count": 90,
   "metadata": {},
   "outputs": [],
   "source": [
    "chi = sp.stats.chi2.ppf(.95,2)\n",
    "test_stat = coeff * np.log(1-e_val[1])"
   ]
  },
  {
   "cell_type": "code",
   "execution_count": 91,
   "metadata": {},
   "outputs": [
    {
     "data": {
      "text/plain": [
       "(2.29227534391134, 5.991464547107979)"
      ]
     },
     "execution_count": 91,
     "metadata": {},
     "output_type": "execute_result"
    }
   ],
   "source": [
    "(test_stat,chi)"
   ]
  },
  {
   "cell_type": "markdown",
   "metadata": {},
   "source": [
    "We conclude that the first canonical correlation is nonzero. "
   ]
  },
  {
   "cell_type": "markdown",
   "metadata": {},
   "source": [
    "### b)"
   ]
  },
  {
   "cell_type": "code",
   "execution_count": null,
   "metadata": {},
   "outputs": [],
   "source": []
  }
 ],
 "metadata": {
  "kernelspec": {
   "display_name": "Python 3",
   "language": "python",
   "name": "python3"
  },
  "language_info": {
   "codemirror_mode": {
    "name": "ipython",
    "version": 3
   },
   "file_extension": ".py",
   "mimetype": "text/x-python",
   "name": "python",
   "nbconvert_exporter": "python",
   "pygments_lexer": "ipython3",
   "version": "3.7.0"
  }
 },
 "nbformat": 4,
 "nbformat_minor": 2
}
