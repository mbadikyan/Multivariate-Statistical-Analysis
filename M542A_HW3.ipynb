{
 "cells": [
  {
   "cell_type": "markdown",
   "metadata": {},
   "source": [
    "# Math 542A HW#3"
   ]
  },
  {
   "cell_type": "code",
   "execution_count": 1,
   "metadata": {},
   "outputs": [],
   "source": [
    "import numpy as np\n",
    "import scipy.stats as stats\n",
    "import pandas as pd"
   ]
  },
  {
   "cell_type": "code",
   "execution_count": 33,
   "metadata": {},
   "outputs": [],
   "source": [
    "def proportion_inside_ellipse(x,alpha):\n",
    "    \n",
    "    x1 = np.array([x[i][0] for i in range(len(x))])                    \n",
    "    x2 = np.array([x[i][1] for i in range(len(x))])\n",
    "    \n",
    "    sigma_inverse = np.linalg.inv(np.cov(x1,x2))                       \n",
    "    \n",
    "    x_bar = np.array([np.mean([x[i][0] for i in range(len(x))]),       \n",
    "                      np.mean([x[i][1] for i in range(len(x))])])\n",
    "    \n",
    "    x = np.array(x)\n",
    "    \n",
    "    in_ellipse = [obs for obs in x if                                   \n",
    "                  np.matmul(np.matmul(np.transpose(obs-x_bar),\n",
    "                                      sigma_inverse),(obs-x_bar)) <= \n",
    "                  stats.chi2.ppf(1-alpha,df=2)]\n",
    "    \n",
    "    return(len(in_ellipse)/len(x))\n",
    "    "
   ]
  },
  {
   "cell_type": "code",
   "execution_count": 34,
   "metadata": {},
   "outputs": [],
   "source": [
    "mean = [0, 0]               #Two sets of mean and covariance matrices\n",
    "cov = [[1, 0], [0, 100]] \n",
    "\n",
    "mean2 = [3,36]\n",
    "cov2 = [[1,0],[0,86]]"
   ]
  },
  {
   "cell_type": "code",
   "execution_count": 35,
   "metadata": {
    "scrolled": true
   },
   "outputs": [],
   "source": [
    "X = np.random.multivariate_normal(mean, cov, 10000)     \n",
    "X2 = np.random.multivariate_normal(mean2,cov2, 6000)    "
   ]
  },
  {
   "cell_type": "code",
   "execution_count": 36,
   "metadata": {},
   "outputs": [
    {
     "data": {
      "text/plain": [
       "0.9745"
      ]
     },
     "execution_count": 36,
     "metadata": {},
     "output_type": "execute_result"
    }
   ],
   "source": [
    "proportion_inside_ellipse(X,0.025)       #proportion of X"
   ]
  },
  {
   "cell_type": "code",
   "execution_count": 39,
   "metadata": {},
   "outputs": [
    {
     "data": {
      "text/plain": [
       "0.9761666666666666"
      ]
     },
     "execution_count": 39,
     "metadata": {},
     "output_type": "execute_result"
    }
   ],
   "source": [
    "proportion_inside_ellipse(X2,0.025)     #proportion of X2"
   ]
  }
 ],
 "metadata": {
  "kernelspec": {
   "display_name": "Python 3",
   "language": "python",
   "name": "python3"
  },
  "language_info": {
   "codemirror_mode": {
    "name": "ipython",
    "version": 3
   },
   "file_extension": ".py",
   "mimetype": "text/x-python",
   "name": "python",
   "nbconvert_exporter": "python",
   "pygments_lexer": "ipython3",
   "version": "3.7.0"
  }
 },
 "nbformat": 4,
 "nbformat_minor": 2
}
