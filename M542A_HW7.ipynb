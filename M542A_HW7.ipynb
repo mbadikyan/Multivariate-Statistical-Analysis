{
 "cells": [
  {
   "cell_type": "markdown",
   "metadata": {},
   "source": [
    "# Math 542A Homework 7"
   ]
  },
  {
   "cell_type": "code",
   "execution_count": 1,
   "metadata": {},
   "outputs": [],
   "source": [
    "import math\n",
    "import numpy as np\n",
    "import scipy.stats as sp"
   ]
  },
  {
   "cell_type": "markdown",
   "metadata": {},
   "source": [
    "## Problem 6.5"
   ]
  },
  {
   "cell_type": "markdown",
   "metadata": {},
   "source": [
    "### a)"
   ]
  },
  {
   "cell_type": "markdown",
   "metadata": {},
   "source": [
    "We proceed to define a contrast matrix and to compute the test statistic and f value for the given mean vector and covariance matrix."
   ]
  },
  {
   "cell_type": "code",
   "execution_count": 2,
   "metadata": {},
   "outputs": [],
   "source": [
    "C = np.matrix([[1,-1,0],[1,0,-1]])"
   ]
  },
  {
   "cell_type": "code",
   "execution_count": 3,
   "metadata": {},
   "outputs": [],
   "source": [
    "x_bar = np.transpose(np.matrix([46.1,57.3,50.4]))  "
   ]
  },
  {
   "cell_type": "code",
   "execution_count": 4,
   "metadata": {},
   "outputs": [],
   "source": [
    "S = np.matrix([[101.3,63,71],[63,80.2,55.6],[71,55.6,97.4]])"
   ]
  },
  {
   "cell_type": "code",
   "execution_count": 5,
   "metadata": {},
   "outputs": [],
   "source": [
    "comp1 = np.transpose(np.matmul(C,x_bar))\n",
    "comp2 = np.linalg.inv(np.matmul(np.matmul(C,S),np.transpose(C)))\n",
    "comp3 = np.matmul(C,x_bar)\n",
    "\n",
    "test_stat = float(40*comp1*comp2*comp3)"
   ]
  },
  {
   "cell_type": "code",
   "execution_count": 6,
   "metadata": {},
   "outputs": [],
   "source": [
    "f_val = (39*2/38)*sp.f.ppf(.95,2,38)"
   ]
  },
  {
   "cell_type": "code",
   "execution_count": 7,
   "metadata": {},
   "outputs": [
    {
     "data": {
      "text/plain": [
       "(90.49457756898148, 6.660416635188395)"
      ]
     },
     "execution_count": 7,
     "metadata": {},
     "output_type": "execute_result"
    }
   ],
   "source": [
    "(test_stat,f_val)"
   ]
  },
  {
   "cell_type": "markdown",
   "metadata": {},
   "source": [
    "^ We can clearly reject the null hypothesis since the test statistic greatly exceeds the corresponding f value. Since the test statistic is independent of our choice of C, we conclude that at least two of the three given mean indices differ significantly for all C. "
   ]
  },
  {
   "cell_type": "markdown",
   "metadata": {},
   "source": [
    "### b)"
   ]
  },
  {
   "cell_type": "markdown",
   "metadata": {},
   "source": [
    "We proceed to define a function that will establish simultaneous confidence intervals for this example."
   ]
  },
  {
   "cell_type": "code",
   "execution_count": 8,
   "metadata": {},
   "outputs": [],
   "source": [
    "def Single_contrasts_conf_int(i, alpha):\n",
    "    s = S[i,i]\n",
    "    coeff = (39*2/38)*sp.f.ppf(1-alpha,2,38)\n",
    "    \n",
    "    upper_bound = x_bar[i,0] + math.sqrt(coeff)*math.sqrt(s/40)\n",
    "    lower_bound = x_bar[i,0] - math.sqrt(coeff)*math.sqrt(s/40)\n",
    "    \n",
    "    return(lower_bound,upper_bound)"
   ]
  },
  {
   "cell_type": "code",
   "execution_count": 9,
   "metadata": {},
   "outputs": [
    {
     "data": {
      "text/plain": [
       "(41.99299316671927, 50.20700683328073)"
      ]
     },
     "execution_count": 9,
     "metadata": {},
     "output_type": "execute_result"
    }
   ],
   "source": [
    "Single_contrasts_conf_int(0,.05)  #first element of mean vector"
   ]
  },
  {
   "cell_type": "code",
   "execution_count": 10,
   "metadata": {},
   "outputs": [
    {
     "data": {
      "text/plain": [
       "(53.645668959501236, 60.95433104049876)"
      ]
     },
     "execution_count": 10,
     "metadata": {},
     "output_type": "execute_result"
    }
   ],
   "source": [
    "Single_contrasts_conf_int(1,.05)  #second element of mean vector"
   ]
  },
  {
   "cell_type": "code",
   "execution_count": 11,
   "metadata": {},
   "outputs": [
    {
     "data": {
      "text/plain": [
       "(46.37282797652202, 54.42717202347798)"
      ]
     },
     "execution_count": 11,
     "metadata": {},
     "output_type": "execute_result"
    }
   ],
   "source": [
    "Single_contrasts_conf_int(2,.05)  #third element of mean vector"
   ]
  },
  {
   "cell_type": "markdown",
   "metadata": {},
   "source": [
    "^ Observe that the 95% confidence intervals between the first and second elements of the mean vector do not overlap. This is consistent with our earlier rejection of the null hypothesis. "
   ]
  },
  {
   "cell_type": "markdown",
   "metadata": {},
   "source": [
    "## Problem 6.21"
   ]
  },
  {
   "cell_type": "markdown",
   "metadata": {},
   "source": [
    "### a)"
   ]
  },
  {
   "cell_type": "markdown",
   "metadata": {},
   "source": [
    "We will assume that both data groups are multivariate normal and proceed to conduct a hypothesis test on the equality of the covariance matrices. To this end, we will implement Box's Test. "
   ]
  },
  {
   "cell_type": "code",
   "execution_count": 12,
   "metadata": {},
   "outputs": [],
   "source": [
    "def Box_test(S_pool,S1,S2,n1,n2,alpha):#for two groups \n",
    "    p=len(S_pool)\n",
    "    g=2\n",
    "    m1 = n1-1 + n2-1\n",
    "    m2 = np.log(np.linalg.det(S_pool))\n",
    "    m3 = (n1-1)*np.log(np.linalg.det(S1))  \n",
    "    m4 = (n2-1)*np.log(np.linalg.det(S2))\n",
    "    \n",
    "    M = m1*m2-(m3+m4)\n",
    "    \n",
    "    u1 = (1/(n1-1))+(1/(n2-1))-(1/(n1-1+n2-1))\n",
    "    u2 = (2*p*p + 3*p -1)/(6*(p+1)*(g-1))\n",
    "    \n",
    "    u = u1*u2\n",
    "    \n",
    "    C = (1-u)*M\n",
    "    \n",
    "    df = 0.5*p*(p+1)*(g-1)\n",
    "    chi_sq_val = sp.chi2.ppf(1-alpha,df)\n",
    "    \n",
    "    return(C,chi_sq_val)"
   ]
  },
  {
   "cell_type": "markdown",
   "metadata": {},
   "source": [
    "Now we can store the matrices given in the problem into variables."
   ]
  },
  {
   "cell_type": "code",
   "execution_count": 13,
   "metadata": {},
   "outputs": [],
   "source": [
    "S1 = np.matrix([[.459,.254,-.026,-.244],\n",
    "                [.254,27.465,-.589,-.267],\n",
    "                [-.026,-.589,.03,.102],\n",
    "                [-.244,-.267,.102,6.854]])\n",
    "n1 = 20"
   ]
  },
  {
   "cell_type": "code",
   "execution_count": 14,
   "metadata": {},
   "outputs": [],
   "source": [
    "S2 = np.matrix([[.944,-.089,.002,-.719],\n",
    "                [-.089,16.432,-.4,19.044],\n",
    "                [.002,-.4,.024,-.094],\n",
    "                [-.719,19.044,-.094,61.854]])\n",
    "n2 = 20"
   ]
  },
  {
   "cell_type": "code",
   "execution_count": 15,
   "metadata": {},
   "outputs": [],
   "source": [
    "S_pool = ((n1-1)/(n1+n2-2))*S1 + ((n2-1)/(n1+n2-2))*S2\n",
    "p=4"
   ]
  },
  {
   "cell_type": "markdown",
   "metadata": {},
   "source": [
    "S_pool was derived using formula (6-21), under the assumption that both groups are multivariate normal and that the respective covariance matrices do not differ significantly. "
   ]
  },
  {
   "cell_type": "code",
   "execution_count": 16,
   "metadata": {},
   "outputs": [
    {
     "data": {
      "text/plain": [
       "(27.346710146968327, 18.307038053275146)"
      ]
     },
     "execution_count": 16,
     "metadata": {},
     "output_type": "execute_result"
    }
   ],
   "source": [
    "Box_test(S_pool,S1,S2,n1,n2,.05)    #(test statistic, chi-square value)"
   ]
  },
  {
   "cell_type": "markdown",
   "metadata": {},
   "source": [
    "However, Box's Test (6-52) for the Equality of Covariance Matrices tells us that S1 and S2 do in fact differ significantly at the 95% confidence level. Hence, one might conclude that the pooling is unreasonable.  "
   ]
  },
  {
   "cell_type": "markdown",
   "metadata": {},
   "source": [
    "### b)"
   ]
  },
  {
   "cell_type": "markdown",
   "metadata": {},
   "source": [
    "Store the given mean vectors in variables."
   ]
  },
  {
   "cell_type": "code",
   "execution_count": 17,
   "metadata": {},
   "outputs": [],
   "source": [
    "x1_bar = np.transpose(np.matrix([2.287,12.6,.347,14.83]))\n",
    "x2_bar = np.transpose(np.matrix([2.404,7.155,.524,12.84]))"
   ]
  },
  {
   "cell_type": "markdown",
   "metadata": {},
   "source": [
    "We proceed to test the hypothesis of equality between these two mean vectors. "
   ]
  },
  {
   "cell_type": "code",
   "execution_count": 18,
   "metadata": {},
   "outputs": [],
   "source": [
    "T_squared = float(np.matmul(np.matmul(np.transpose(x1_bar-x2_bar),np.linalg.inv(((1/n1)+(1/n2))*S_pool)),(x1_bar-x2_bar)))"
   ]
  },
  {
   "cell_type": "code",
   "execution_count": 19,
   "metadata": {},
   "outputs": [],
   "source": [
    "c_squared = ((n1+n2-2)*p/(n1+n2-p-1))*sp.f.ppf(.95,p,n1+n2-p-1)"
   ]
  },
  {
   "cell_type": "code",
   "execution_count": 20,
   "metadata": {},
   "outputs": [
    {
     "data": {
      "text/plain": [
       "(15.829959574001872, 11.471505951186915)"
      ]
     },
     "execution_count": 20,
     "metadata": {},
     "output_type": "execute_result"
    }
   ],
   "source": [
    "(T_squared,c_squared)"
   ]
  },
  {
   "cell_type": "markdown",
   "metadata": {},
   "source": [
    "Hence, we can reject the null hypothesis at the 95% confidence level that the two mean vectors are equal, so that there are significant differences between the financial characteristics of firms with Aa bonds and Baa bonds, respectively. "
   ]
  },
  {
   "cell_type": "markdown",
   "metadata": {},
   "source": [
    "### c)"
   ]
  },
  {
   "cell_type": "markdown",
   "metadata": {},
   "source": [
    "We proceed to derive the simultaneous confidence intervals of the componentwise differences between the two mean vectors. "
   ]
  },
  {
   "cell_type": "code",
   "execution_count": 21,
   "metadata": {},
   "outputs": [],
   "source": [
    "def Conf_int(i, alpha):\n",
    "    s = S_pool[i,i]\n",
    "    c_squared = ((n1+n2-2)*p/(n1+n2-p-1))*sp.f.ppf(1-alpha,p,n1+n2-p-1)\n",
    "    \n",
    "    upper_bound = (x1_bar[i,0]-x2_bar[i,0]) + math.sqrt(c_squared)*math.sqrt(((1/n1)+(1/n2))*s)\n",
    "    lower_bound = (x1_bar[i,0]-x2_bar[i,0]) - math.sqrt(c_squared)*math.sqrt(((1/n1)+(1/n2))*s)\n",
    "    \n",
    "    return(lower_bound,upper_bound)"
   ]
  },
  {
   "cell_type": "code",
   "execution_count": 22,
   "metadata": {},
   "outputs": [
    {
     "data": {
      "text/plain": [
       "(-1.0140652944327755, 0.7800652944327754)"
      ]
     },
     "execution_count": 22,
     "metadata": {},
     "output_type": "execute_result"
    }
   ],
   "source": [
    "Conf_int(0,.05)   #CI of difference of first element pair"
   ]
  },
  {
   "cell_type": "code",
   "execution_count": 23,
   "metadata": {},
   "outputs": [
    {
     "data": {
      "text/plain": [
       "(0.42720817122086974, 10.462791828779128)"
      ]
     },
     "execution_count": 23,
     "metadata": {},
     "output_type": "execute_result"
    }
   ],
   "source": [
    "Conf_int(1,.05)"
   ]
  },
  {
   "cell_type": "code",
   "execution_count": 24,
   "metadata": {},
   "outputs": [
    {
     "data": {
      "text/plain": [
       "(-0.35299166476911537, -0.001008335230884727)"
      ]
     },
     "execution_count": 24,
     "metadata": {},
     "output_type": "execute_result"
    }
   ],
   "source": [
    "Conf_int(2,.05)"
   ]
  },
  {
   "cell_type": "code",
   "execution_count": 25,
   "metadata": {},
   "outputs": [
    {
     "data": {
      "text/plain": [
       "(-4.28767564825609, 8.267675648256091)"
      ]
     },
     "execution_count": 25,
     "metadata": {},
     "output_type": "execute_result"
    }
   ],
   "source": [
    "Conf_int(3,.05)  #CI of difference of fourth element pair"
   ]
  },
  {
   "cell_type": "markdown",
   "metadata": {},
   "source": [
    "Observe that the 95% confidence intervals of the component-wise differences between the second and third elements of x1_bar and x2_bar, respectively, do not intersect zero, so that the significant difference in the mean vectors can be attributed to these two components. "
   ]
  },
  {
   "cell_type": "markdown",
   "metadata": {},
   "source": [
    "### d)"
   ]
  },
  {
   "cell_type": "markdown",
   "metadata": {},
   "source": [
    "It was demonstrated in part c that the second and third elements differ significantly between the mean vectors. Hence, the long-term interest rate (X2) and the debt-to-equity ratio (X3) are good metrics to discriminate Aa bonds from Baa bonds. "
   ]
  },
  {
   "cell_type": "markdown",
   "metadata": {},
   "source": [
    "### e)"
   ]
  },
  {
   "cell_type": "markdown",
   "metadata": {},
   "source": [
    "We proceed to calculate the T squared test statistic and the corresponding f value in the case of different covariance matrices. "
   ]
  },
  {
   "cell_type": "code",
   "execution_count": 26,
   "metadata": {},
   "outputs": [],
   "source": [
    "t1 = np.transpose(x1_bar - x2_bar)\n",
    "t2 = np.linalg.inv((1/n1)*S1 + (1/n2)*S2)\n",
    "t3 = x1_bar - x2_bar\n",
    "\n",
    "T_squared = float(np.matmul(np.matmul(t1,t2),t3))"
   ]
  },
  {
   "cell_type": "code",
   "execution_count": 27,
   "metadata": {},
   "outputs": [],
   "source": [
    "v1 = p + p*p\n",
    "v2 = (1/n1)*(np.trace(np.matmul((1/n1)*S1,t2)**2) + np.trace(np.matmul((1/n1)*S1,t2))**2)\n",
    "v3 = (1/n2)*(np.trace(np.matmul((1/n2)*S2,t2)**2) + np.trace(np.matmul((1/n2)*S2,t2))**2)\n",
    "\n",
    "v = v1/(v2+v3)"
   ]
  },
  {
   "cell_type": "code",
   "execution_count": 28,
   "metadata": {},
   "outputs": [],
   "source": [
    "f_val = (v*p/(v-p+1))*sp.f.ppf(.95,p,v-p+1)"
   ]
  },
  {
   "cell_type": "code",
   "execution_count": 29,
   "metadata": {},
   "outputs": [
    {
     "data": {
      "text/plain": [
       "(15.829959574001862, 11.512592328417268)"
      ]
     },
     "execution_count": 29,
     "metadata": {},
     "output_type": "execute_result"
    }
   ],
   "source": [
    "(T_squared,f_val)"
   ]
  },
  {
   "cell_type": "markdown",
   "metadata": {},
   "source": [
    "We again reject the null hypothesis of equality of the mean vectors, even under the assumption that the covariance matrices differ significantly. Hence, the conclusion here agrees with that of part b. "
   ]
  },
  {
   "cell_type": "markdown",
   "metadata": {},
   "source": [
    "## Problem 7.25"
   ]
  },
  {
   "cell_type": "markdown",
   "metadata": {},
   "source": [
    "### (i)"
   ]
  },
  {
   "cell_type": "markdown",
   "metadata": {},
   "source": [
    "We'll proceed to load the problem data into variables."
   ]
  },
  {
   "cell_type": "code",
   "execution_count": 30,
   "metadata": {},
   "outputs": [],
   "source": [
    "Z = np.matrix([[1,1,7500,220,0,140],\n",
    "               [1,1,1975,200,0,100],\n",
    "               [1,0,3600,205,60,111],\n",
    "               [1,1,675,160,60,120],\n",
    "               [1,1,750,185,70,83],\n",
    "               [1,1,2500,180,60,80],\n",
    "               [1,1,350,154,80,98],\n",
    "               [1,0,1500,200,70,93],\n",
    "               [1,1,375,137,60,105],\n",
    "               [1,1,1050,167,60,74],\n",
    "               [1,1,3000,180,60,80],\n",
    "               [1,1,450,160,64,60],\n",
    "               [1,1,1750,135,90,79],\n",
    "               [1,0,2000,160,60,80],\n",
    "               [1,0,4500,180,0,100],\n",
    "               [1,0,1500,170,90,120],\n",
    "               [1,1,3000,180,0,129]])"
   ]
  },
  {
   "cell_type": "code",
   "execution_count": 31,
   "metadata": {},
   "outputs": [],
   "source": [
    "Y = np.matrix([[3389,3149],\n",
    "               [1101,653],\n",
    "               [1131,810],\n",
    "               [596,448],\n",
    "               [896,844],\n",
    "               [1767,1450],\n",
    "               [807,493],\n",
    "               [1111,941],\n",
    "               [645,547],\n",
    "               [628,392],\n",
    "               [1360,1283], \n",
    "               [652,458],\n",
    "               [860,722],\n",
    "               [500,384],\n",
    "               [781,501],\n",
    "               [1070,405],\n",
    "               [1754,1520]])"
   ]
  },
  {
   "cell_type": "code",
   "execution_count": 32,
   "metadata": {},
   "outputs": [],
   "source": [
    "ZZ_inv = np.linalg.inv(np.matmul(np.transpose(Z),Z))\n",
    "B_hat = np.matmul(np.matmul(ZZ_inv, np.transpose(Z)), Y)"
   ]
  },
  {
   "cell_type": "code",
   "execution_count": 33,
   "metadata": {},
   "outputs": [],
   "source": [
    "Y_hat = np.matmul(Z,B_hat)"
   ]
  },
  {
   "cell_type": "markdown",
   "metadata": {},
   "source": [
    "### (ii)"
   ]
  },
  {
   "cell_type": "code",
   "execution_count": 34,
   "metadata": {},
   "outputs": [],
   "source": [
    "e_hat = Y - Y_hat"
   ]
  },
  {
   "cell_type": "code",
   "execution_count": 35,
   "metadata": {},
   "outputs": [
    {
     "data": {
      "text/plain": [
       "matrix([[7.42438715e-07, 5.72297722e-07],\n",
       "        [5.67990355e-07, 4.37139533e-07]])"
      ]
     },
     "execution_count": 35,
     "metadata": {},
     "output_type": "execute_result"
    }
   ],
   "source": [
    "np.matmul(np.transpose(e_hat),Y_hat)"
   ]
  },
  {
   "cell_type": "markdown",
   "metadata": {},
   "source": [
    "^ The floating point error won't quite allow the product of the matrices e_hat and Y_hat to evaluate to zero, but the approximation comes close."
   ]
  },
  {
   "cell_type": "code",
   "execution_count": 36,
   "metadata": {},
   "outputs": [
    {
     "data": {
      "text/plain": [
       "matrix([[29048664, 24281826],\n",
       "        [24281826, 20845672]])"
      ]
     },
     "execution_count": 36,
     "metadata": {},
     "output_type": "execute_result"
    }
   ],
   "source": [
    "np.matmul(np.transpose(Y),Y)"
   ]
  },
  {
   "cell_type": "code",
   "execution_count": 37,
   "metadata": {},
   "outputs": [
    {
     "data": {
      "text/plain": [
       "matrix([[29048663.99999851, 24281825.99999886],\n",
       "        [24281825.99999886, 20845671.99999912]])"
      ]
     },
     "execution_count": 37,
     "metadata": {},
     "output_type": "execute_result"
    }
   ],
   "source": [
    "np.matmul(np.transpose(Y_hat),Y_hat) + np.matmul(np.transpose(e_hat),e_hat)"
   ]
  },
  {
   "cell_type": "markdown",
   "metadata": {},
   "source": [
    "^ Here we verify the approximate equivalence Y'Y = Y_hat'Y_hat + e_hat'e_hat, which is the sum of squares decomposition."
   ]
  },
  {
   "cell_type": "markdown",
   "metadata": {},
   "source": [
    "### (iii)"
   ]
  },
  {
   "cell_type": "markdown",
   "metadata": {},
   "source": [
    "We'll adapt the code from the DrawConfidenceEclipse function from a previous assignment."
   ]
  },
  {
   "cell_type": "code",
   "execution_count": 38,
   "metadata": {},
   "outputs": [],
   "source": [
    "import matplotlib.pyplot as plt\n",
    "from matplotlib import patches\n",
    "from matplotlib.patches import Ellipse"
   ]
  },
  {
   "cell_type": "code",
   "execution_count": 39,
   "metadata": {},
   "outputs": [
    {
     "data": {
      "image/png": "[encoded data removed]",
      "text/plain": [
       "<Figure size 432x288 with 1 Axes>"
      ]
     },
     "metadata": {
      "needs_background": "light"
     },
     "output_type": "display_data"
    }
   ],
   "source": [
    "n = len(Z[:,0])\n",
    "r = Z[0].size-1\n",
    "m = Y[0].size\n",
    "    \n",
    "y1 = np.transpose(np.matrix([Y[i,0] for i in range(n)]))\n",
    "y2 = np.transpose(np.matrix([Y[i,1] for i in range(n)]))\n",
    "\n",
    "b1 =  np.transpose(np.matrix([B_hat[i,0] for i in range(r+1)]))\n",
    "b2 =  np.transpose(np.matrix([B_hat[i,1] for i in range(r+1)]))\n",
    "\n",
    "sig1 = float(np.matmul(np.transpose(y1-np.matmul(Z,b1)),(y1-np.matmul(Z,b1))))\n",
    "sig2 = float(np.matmul(np.transpose(y1-np.matmul(Z,b1)),(y2-np.matmul(Z,b2))))\n",
    "sig3 = float(np.matmul(np.transpose(y2-np.matmul(Z,b2)),(y1-np.matmul(Z,b1))))\n",
    "sig4 = float(np.matmul(np.transpose(y2-np.matmul(Z,b2)),(y2-np.matmul(Z,b2))))\n",
    "\n",
    "nSig_hat = np.matrix([[sig1,sig2],[sig3,sig4]])\n",
    "\n",
    "z0 = np.transpose(np.matrix([1,1,1200,140,70,85]))\n",
    "    \n",
    "e_val, e_vec = np.linalg.eig(nSig_hat)\n",
    "\n",
    "f_val = sp.f.ppf(.95,m,n-r-m)\n",
    "coeff1 = 1 + float(np.matmul(np.matmul(np.transpose(z0),ZZ_inv),z0))\n",
    "coeff2 = m/(n-r-m)\n",
    "    \n",
    "axis1 = math.sqrt((e_val[0])*coeff1*coeff2*f_val)/2     \n",
    "axis2 = math.sqrt((e_val[1])*coeff1*coeff2*f_val)/2     \n",
    "rot = np.arctan(e_vec[0,0]/e_vec[1,0])*180/math.pi  \n",
    "\n",
    "center = (float(np.matmul(np.transpose(b1),z0)), float(np.matmul(np.transpose(b2),z0)))\n",
    "    \n",
    "plt.axes()\n",
    "ellipse = Ellipse(center, axis1, axis2, rot)\n",
    "plt.gca().add_patch(ellipse)\n",
    "plt.axis('scaled')\n",
    "plt.axis('equal')\n",
    "plt.grid()\n",
    "plt.show()"
   ]
  },
  {
   "cell_type": "code",
   "execution_count": 40,
   "metadata": {},
   "outputs": [
    {
     "data": {
      "text/plain": [
       "(array([ 138866.52458776, 1671850.68527858]),\n",
       " matrix([[-0.72322873, -0.69060858],\n",
       "         [ 0.69060858, -0.72322873]]))"
      ]
     },
     "execution_count": 40,
     "metadata": {},
     "output_type": "execute_result"
    }
   ],
   "source": [
    "(e_val, e_vec)"
   ]
  },
  {
   "cell_type": "markdown",
   "metadata": {},
   "source": [
    "The ellipse seems properly oriented, since the axis with the positive slope is informed by the eigenvector corresponding to the larger eigenvalue."
   ]
  }
 ],
 "metadata": {
  "kernelspec": {
   "display_name": "Python 3",
   "language": "python",
   "name": "python3"
  },
  "language_info": {
   "codemirror_mode": {
    "name": "ipython",
    "version": 3
   },
   "file_extension": ".py",
   "mimetype": "text/x-python",
   "name": "python",
   "nbconvert_exporter": "python",
   "pygments_lexer": "ipython3",
   "version": "3.7.0"
  }
 },
 "nbformat": 4,
 "nbformat_minor": 2
}
